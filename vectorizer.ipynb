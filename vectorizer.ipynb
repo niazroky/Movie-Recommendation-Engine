{
 "cells": [
  {
   "cell_type": "markdown",
   "metadata": {},
   "source": [
    "### How Vectorizer Works"
   ]
  },
  {
   "cell_type": "code",
   "execution_count": 1,
   "metadata": {},
   "outputs": [
    {
     "name": "stdout",
     "output_type": "stream",
     "text": [
      "Document-Term Matrix:\n",
      "[[0 1 1 1 0 1 0 1 0 1]\n",
      " [0 2 0 1 0 0 1 1 0 1]\n",
      " [1 0 0 1 1 0 0 1 1 1]\n",
      " [0 1 1 1 0 0 0 1 0 1]]\n",
      "\n",
      "Feature Names:\n",
      "['and' 'document' 'first' 'is' 'one' 'roky' 'second' 'the' 'third' 'this']\n"
     ]
    }
   ],
   "source": [
    "\"\"\"\n",
    "A simple python code to know How vectorizer works. Hope it will help \n",
    "to understand the underlying concept behind vectorizer. \n",
    "\"\"\"\n",
    "\n",
    "from sklearn.feature_extraction.text import CountVectorizer\n",
    "\n",
    "# Sample documents\n",
    "documents = [\n",
    "    \"This is the first document. roky\",\n",
    "    \"This document is the second document.\",\n",
    "    \"And this is the third one.\",\n",
    "    \"Is this the first document?\",\n",
    "]\n",
    "\n",
    "# Create a CountVectorizer object\n",
    "vectorizer = CountVectorizer()\n",
    "\n",
    "# Fit the vectorizer to the documents and transform them into a document-term matrix\n",
    "X = vectorizer.fit_transform(documents)\n",
    "\n",
    "# Get the feature names (unique words) from the vectorizer\n",
    "feature_names = vectorizer.get_feature_names_out()\n",
    "\n",
    "# Print the document-term matrix\n",
    "print(\"Document-Term Matrix:\")\n",
    "print(X.toarray())\n",
    "\n",
    "# Print the feature names\n",
    "print(\"\\nFeature Names:\")\n",
    "print(feature_names)\n",
    "\n"
   ]
  }
 ],
 "metadata": {
  "kernelspec": {
   "display_name": "Python 3",
   "language": "python",
   "name": "python3"
  },
  "language_info": {
   "codemirror_mode": {
    "name": "ipython",
    "version": 3
   },
   "file_extension": ".py",
   "mimetype": "text/x-python",
   "name": "python",
   "nbconvert_exporter": "python",
   "pygments_lexer": "ipython3",
   "version": "3.12.0"
  }
 },
 "nbformat": 4,
 "nbformat_minor": 2
}
